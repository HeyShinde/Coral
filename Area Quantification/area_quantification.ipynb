{
 "cells": [
  {
   "cell_type": "code",
   "execution_count": 4,
   "metadata": {},
   "outputs": [
    {
     "name": "stdout",
     "output_type": "stream",
     "text": [
      "Image saved to /Users/shinde/Downloads/segmentation_folder/results/highlighted_image.jpg\n"
     ]
    }
   ],
   "source": [
    "from PIL import Image\n",
    "import numpy as np\n",
    "import cv2\n",
    "\n",
    "# Paths to the original image and its corresponding mask\n",
    "original_image_path = '/Users/shinde/Downloads/segmentation_folder/test/images/Image_2_jpg.rf.3dc0ee34a33ac08fb30fc9cb6d971999.jpg'\n",
    "mask_image_path = '/Users/shinde/Downloads/segmentation_folder/test/masks/Image_2_jpg.rf.3dc0ee34a33ac08fb30fc9cb6d971999_masked.jpg'\n",
    "\n",
    "# Load the original image and mask\n",
    "original_image = cv2.imread(original_image_path)\n",
    "mask = cv2.imread(mask_image_path, cv2.IMREAD_GRAYSCALE)\n",
    "\n",
    "# Ensure mask is binary (0 or 255)\n",
    "_, binary_mask = cv2.threshold(mask, 127, 255, cv2.THRESH_BINARY)\n",
    "\n",
    "# Create a colored mask with the same shape as the original image but filled with the highlighting color, here it's red\n",
    "colored_mask = np.zeros_like(original_image)\n",
    "colored_mask[:, :] = [255, 0, 0]  # BGR format, red\n",
    "\n",
    "# Blend the original image with the colored mask using the binary mask to specify the blending area\n",
    "alpha = 0.4  # Transparency factor\n",
    "# Create a masked version of the colored mask, applying it only where the binary mask is white\n",
    "colored_mask_applied = np.where(binary_mask[:, :, None] == 255, (colored_mask * alpha).astype(np.uint8), 0)\n",
    "# Add the masked, colored mask to the original image\n",
    "highlighted_image = cv2.add(original_image, colored_mask_applied)\n",
    "\n",
    "# Assuming white pixels represent the lesion, count them\n",
    "white_pixels = np.sum(binary_mask == 255)\n",
    "\n",
    "# Hypothetical scale factor: Assuming each pixel represents 0.25 square units\n",
    "scale_factor_per_pixel = 0.25\n",
    "real_area = white_pixels * scale_factor_per_pixel\n",
    "\n",
    "# Combine area and units into one string\n",
    "area_text = f'Area: {real_area} sq units'\n",
    "\n",
    "# Choose a smaller font size for better fitting\n",
    "font_scale = 0.7\n",
    "font_thickness = 2\n",
    "\n",
    "# Calculate the size of the text box\n",
    "(text_width, text_height), baseline = cv2.getTextSize(area_text, cv2.FONT_HERSHEY_SIMPLEX, font_scale, font_thickness)\n",
    "\n",
    "# Position the text\n",
    "text_x, text_y = 10, text_height + 20  # Adjusted to ensure text is visible\n",
    "\n",
    "# Draw the text on the image\n",
    "cv2.putText(highlighted_image, area_text, (text_x, text_y), cv2.FONT_HERSHEY_SIMPLEX, font_scale, (0, 255, 0), font_thickness)\n",
    "\n",
    "# Convert to RGB to display with PIL (just for visualization here)\n",
    "highlighted_image_rgb = cv2.cvtColor(highlighted_image, cv2.COLOR_BGR2RGB)\n",
    "\n",
    "# Display the modified image with PIL\n",
    "Image.fromarray(highlighted_image_rgb).show()\n",
    "\n",
    "# Define the filename and extension for saving the image\n",
    "filename = 'highlighted_image.jpg'  # You can change the filename as needed\n",
    "save_path = '/Users/shinde/Downloads/segmentation_folder/results/' + filename\n",
    "\n",
    "# Save the image with the drawn area and contours to the specified path\n",
    "cv2.imwrite(save_path, highlighted_image)\n",
    "\n",
    "print(f\"Image saved to {save_path}\")\n"
   ]
  },
  {
   "cell_type": "code",
   "execution_count": null,
   "metadata": {},
   "outputs": [],
   "source": []
  }
 ],
 "metadata": {
  "kernelspec": {
   "display_name": "minor2",
   "language": "python",
   "name": "python3"
  },
  "language_info": {
   "codemirror_mode": {
    "name": "ipython",
    "version": 3
   },
   "file_extension": ".py",
   "mimetype": "text/x-python",
   "name": "python",
   "nbconvert_exporter": "python",
   "pygments_lexer": "ipython3",
   "version": "3.12.2"
  },
  "orig_nbformat": 4
 },
 "nbformat": 4,
 "nbformat_minor": 2
}
